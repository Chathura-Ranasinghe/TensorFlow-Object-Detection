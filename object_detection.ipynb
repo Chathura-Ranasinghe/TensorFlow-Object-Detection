{
  "cells": [
    {
      "cell_type": "markdown",
      "metadata": {
        "id": "V8-yl-s-WKMG"
      },
      "source": [
        "# Object Detection API"
      ]
    },
    {
      "cell_type": "markdown",
      "metadata": {
        "id": "3cIrseUv6WKz"
      },
      "source": [
        "Welcome to the [Object Detection API](https://github.com/tensorflow/models/tree/master/research/object_detection). This notebook will walk you step by step through the process of using a pre-trained model to detect objects in an image."
      ]
    },
    {
      "cell_type": "markdown",
      "metadata": {
        "id": "kFSqkTCdWKMI"
      },
      "source": [
        "# Setup"
      ]
    },
    {
      "cell_type": "markdown",
      "metadata": {
        "id": "p3UGXxUii5Ym"
      },
      "source": [
        "### Install"
      ]
    },
    {
      "cell_type": "code",
      "execution_count": null,
      "metadata": {
        "id": "hGL97-GXjSUw"
      },
      "outputs": [],
      "source": [
        "%pip install tensorflow==2.10 tf-slim opencv-python"
      ]
    },
    {
      "cell_type": "markdown",
      "metadata": {
        "id": "n_ap_s9ajTHH"
      },
      "source": [
        "Make sure you have `pycocotools` installed"
      ]
    },
    {
      "cell_type": "code",
      "execution_count": null,
      "metadata": {
        "id": "Bg8ZyA47i3pY"
      },
      "outputs": [],
      "source": [
        "%pip install pycocotools"
      ]
    },
    {
      "cell_type": "markdown",
      "metadata": {
        "id": "-vsOL3QR6kqs"
      },
      "source": [
        "Get `tensorflow/models` or `cd` to parent directory of the repository."
      ]
    },
    {
      "cell_type": "code",
      "execution_count": 82,
      "metadata": {},
      "outputs": [],
      "source": [
        "import os\n",
        "import pathlib"
      ]
    },
    {
      "cell_type": "code",
      "execution_count": null,
      "metadata": {
        "id": "ykA0c-om51s1"
      },
      "outputs": [],
      "source": [
        "if \"models\" in pathlib.Path.cwd().parts:\n",
        "  while \"models\" in pathlib.Path.cwd().parts:\n",
        "    os.chdir('..')\n",
        "elif not pathlib.Path('models').exists():\n",
        "  !git clone --depth 1 https://github.com/tensorflow/models"
      ]
    },
    {
      "cell_type": "markdown",
      "metadata": {
        "id": "O219m6yWAj9l"
      },
      "source": [
        "Compile protobufs and install the object_detection package"
      ]
    },
    {
      "cell_type": "code",
      "execution_count": null,
      "metadata": {
        "id": "PY41vdYYNlXc"
      },
      "outputs": [],
      "source": [
        "!cd models/research/ && protoc object_detection/protos/*.proto --python_out=."
      ]
    },
    {
      "cell_type": "code",
      "execution_count": null,
      "metadata": {
        "id": "s62yJyQUcYbp"
      },
      "outputs": [],
      "source": [
        "!cd models/research && pip install ."
      ]
    },
    {
      "cell_type": "markdown",
      "metadata": {
        "id": "LBdjK2G5ywuc"
      },
      "source": [
        "### Imports"
      ]
    },
    {
      "cell_type": "code",
      "execution_count": 83,
      "metadata": {
        "id": "hV4P5gyTWKMI"
      },
      "outputs": [],
      "source": [
        "import numpy as np\n",
        "import six.moves.urllib as urllib\n",
        "import sys\n",
        "import tarfile\n",
        "import tensorflow as tf\n",
        "import zipfile\n",
        "import cv2\n",
        "\n",
        "from collections import defaultdict\n",
        "from io import StringIO\n",
        "from matplotlib import pyplot as plt\n",
        "from PIL import Image\n",
        "from IPython.display import display"
      ]
    },
    {
      "cell_type": "markdown",
      "metadata": {
        "id": "r5FNuiRPWKMN"
      },
      "source": [
        "Import the object detection module."
      ]
    },
    {
      "cell_type": "code",
      "execution_count": 84,
      "metadata": {
        "id": "4-IMl4b6BdGO"
      },
      "outputs": [],
      "source": [
        "from object_detection.utils import ops as utils_ops\n",
        "from object_detection.utils import label_map_util\n",
        "from object_detection.utils import visualization_utils as vis_util"
      ]
    },
    {
      "cell_type": "markdown",
      "metadata": {
        "id": "RYPCiag2iz_q"
      },
      "source": [
        "Patches:"
      ]
    },
    {
      "cell_type": "code",
      "execution_count": 85,
      "metadata": {
        "id": "mF-YlMl8c_bM"
      },
      "outputs": [],
      "source": [
        "# patch tf1 into `utils.ops`\n",
        "utils_ops.tf = tf.compat.v1\n",
        "\n",
        "# Patch the location of gfile\n",
        "tf.gfile = tf.io.gfile"
      ]
    },
    {
      "cell_type": "markdown",
      "metadata": {
        "id": "cfn_tRFOWKMO"
      },
      "source": [
        "# Model preparation "
      ]
    },
    {
      "cell_type": "markdown",
      "metadata": {
        "id": "X_sEBLpVWKMQ"
      },
      "source": [
        "## Variables\n",
        "\n",
        "Any model exported using the `export_inference_graph.py` tool can be loaded here simply by changing the path.\n",
        "\n",
        "By default we use an \"SSD with Mobilenet\" model here. See the [detection model zoo](https://github.com/tensorflow/models/blob/master/research/object_detection/g3doc/tf2_detection_zoo.md) for a list of other models that can be run out-of-the-box with varying speeds and accuracies."
      ]
    },
    {
      "cell_type": "markdown",
      "metadata": {
        "id": "7ai8pLZZWKMS"
      },
      "source": [
        "## Loader"
      ]
    },
    {
      "cell_type": "code",
      "execution_count": null,
      "metadata": {
        "id": "zm8xp-0eoItE"
      },
      "outputs": [],
      "source": [
        "def load_model(model_name):\n",
        "  base_url = 'http://download.tensorflow.org/models/object_detection/tf2/20200711/'\n",
        "  model_file = model_name + '.tar.gz'\n",
        "  model_dir = tf.keras.utils.get_file(\n",
        "    fname=model_name, \n",
        "    origin=base_url + model_file,\n",
        "    untar=True)\n",
        "\n",
        "  model_dir = pathlib.Path(model_dir)/\"saved_model\"\n",
        "\n",
        "  model = tf.saved_model.load(str(model_dir))\n",
        "\n",
        "  return model"
      ]
    },
    {
      "cell_type": "markdown",
      "metadata": {
        "id": "_1MVVTcLWKMW"
      },
      "source": [
        "## Loading label map\n",
        "Label maps map indices to category names, so that when our convolution network predicts `5`, we know that this corresponds to `airplane`.  Here we use internal utility functions, but anything that returns a dictionary mapping integers to appropriate string labels would be fine"
      ]
    },
    {
      "cell_type": "code",
      "execution_count": 86,
      "metadata": {
        "id": "hDbpHkiWWKMX"
      },
      "outputs": [],
      "source": [
        "# List of the strings that is used to add correct label for each box.\n",
        "PATH_TO_LABELS = 'models/research/object_detection/data/mscoco_label_map.pbtxt'\n",
        "category_index = label_map_util.create_category_index_from_labelmap(PATH_TO_LABELS, use_display_name=True)"
      ]
    },
    {
      "cell_type": "markdown",
      "metadata": {
        "id": "oVU3U_J6IJVb"
      },
      "source": [
        "For the sake of simplicity we will test on 2 images:"
      ]
    },
    {
      "cell_type": "code",
      "execution_count": 87,
      "metadata": {
        "id": "jG-zn5ykWKMd"
      },
      "outputs": [
        {
          "data": {
            "text/plain": [
              "[WindowsPath('test_images/image1.jpg'), WindowsPath('test_images/image2.jpg')]"
            ]
          },
          "execution_count": 87,
          "metadata": {},
          "output_type": "execute_result"
        }
      ],
      "source": [
        "# If you want to test the code with your images, just add path to the images to the TEST_IMAGE_PATHS.\n",
        "PATH_TO_TEST_IMAGES_DIR = pathlib.Path('test_images')\n",
        "TEST_IMAGE_PATHS = sorted(list(PATH_TO_TEST_IMAGES_DIR.glob(\"*.jpg\")))\n",
        "TEST_IMAGE_PATHS"
      ]
    },
    {
      "cell_type": "code",
      "execution_count": null,
      "metadata": {},
      "outputs": [],
      "source": [
        "PATH_TO_TEST_VIDEOS_DIR = pathlib.Path('test_videos')\n",
        "TEST_VIDEO_PATHS = sorted(list(PATH_TO_TEST_VIDEOS_DIR.glob(\"*.mp4\")))\n",
        "TEST_VIDEO_PATHS"
      ]
    },
    {
      "cell_type": "markdown",
      "metadata": {
        "id": "H0_1AGhrWKMc"
      },
      "source": [
        "# Detection"
      ]
    },
    {
      "cell_type": "markdown",
      "metadata": {
        "id": "f7aOtOlebK7h"
      },
      "source": [
        "Load an object detection model:"
      ]
    },
    {
      "cell_type": "code",
      "execution_count": 88,
      "metadata": {
        "id": "1XNT0wxybKR6"
      },
      "outputs": [],
      "source": [
        "model_name = 'ssd_mobilenet_v2_fpnlite_320x320_coco17_tpu-8'\n",
        "detection_model = load_model(model_name)"
      ]
    },
    {
      "cell_type": "markdown",
      "metadata": {
        "id": "yN1AYfAEJIGp"
      },
      "source": [
        "Check the model's input signature, it expects a batch of 3-color images of type uint8:"
      ]
    },
    {
      "cell_type": "code",
      "execution_count": 89,
      "metadata": {
        "id": "CK4cnry6wsHY"
      },
      "outputs": [
        {
          "name": "stdout",
          "output_type": "stream",
          "text": [
            "[<tf.Tensor 'input_tensor:0' shape=(1, None, None, 3) dtype=uint8>, <tf.Tensor 'unknown:0' shape=<unknown> dtype=resource>, <tf.Tensor 'unknown_0:0' shape=<unknown> dtype=resource>, <tf.Tensor 'unknown_1:0' shape=<unknown> dtype=resource>, <tf.Tensor 'unknown_2:0' shape=<unknown> dtype=resource>, <tf.Tensor 'unknown_3:0' shape=<unknown> dtype=resource>, <tf.Tensor 'unknown_4:0' shape=<unknown> dtype=resource>, <tf.Tensor 'unknown_5:0' shape=<unknown> dtype=resource>, <tf.Tensor 'unknown_6:0' shape=<unknown> dtype=resource>, <tf.Tensor 'unknown_7:0' shape=<unknown> dtype=resource>, <tf.Tensor 'unknown_8:0' shape=<unknown> dtype=resource>, <tf.Tensor 'unknown_9:0' shape=<unknown> dtype=resource>, <tf.Tensor 'unknown_10:0' shape=<unknown> dtype=resource>, <tf.Tensor 'unknown_11:0' shape=<unknown> dtype=resource>, <tf.Tensor 'unknown_12:0' shape=<unknown> dtype=resource>, <tf.Tensor 'unknown_13:0' shape=<unknown> dtype=resource>, <tf.Tensor 'unknown_14:0' shape=<unknown> dtype=resource>, <tf.Tensor 'unknown_15:0' shape=<unknown> dtype=resource>, <tf.Tensor 'unknown_16:0' shape=<unknown> dtype=resource>, <tf.Tensor 'unknown_17:0' shape=<unknown> dtype=resource>, <tf.Tensor 'unknown_18:0' shape=<unknown> dtype=resource>, <tf.Tensor 'unknown_19:0' shape=<unknown> dtype=resource>, <tf.Tensor 'unknown_20:0' shape=<unknown> dtype=resource>, <tf.Tensor 'unknown_21:0' shape=<unknown> dtype=resource>, <tf.Tensor 'unknown_22:0' shape=<unknown> dtype=resource>, <tf.Tensor 'unknown_23:0' shape=<unknown> dtype=resource>, <tf.Tensor 'unknown_24:0' shape=<unknown> dtype=resource>, <tf.Tensor 'unknown_25:0' shape=<unknown> dtype=resource>, <tf.Tensor 'unknown_26:0' shape=<unknown> dtype=resource>, <tf.Tensor 'unknown_27:0' shape=<unknown> dtype=resource>, <tf.Tensor 'unknown_28:0' shape=<unknown> dtype=resource>, <tf.Tensor 'unknown_29:0' shape=<unknown> dtype=resource>, <tf.Tensor 'unknown_30:0' shape=<unknown> dtype=resource>, <tf.Tensor 'unknown_31:0' shape=<unknown> dtype=resource>, <tf.Tensor 'unknown_32:0' shape=<unknown> dtype=resource>, <tf.Tensor 'unknown_33:0' shape=<unknown> dtype=resource>, <tf.Tensor 'unknown_34:0' shape=<unknown> dtype=resource>, <tf.Tensor 'unknown_35:0' shape=<unknown> dtype=resource>, <tf.Tensor 'unknown_36:0' shape=<unknown> dtype=resource>, <tf.Tensor 'unknown_37:0' shape=<unknown> dtype=resource>, <tf.Tensor 'unknown_38:0' shape=<unknown> dtype=resource>, <tf.Tensor 'unknown_39:0' shape=<unknown> dtype=resource>, <tf.Tensor 'unknown_40:0' shape=<unknown> dtype=resource>, <tf.Tensor 'unknown_41:0' shape=<unknown> dtype=resource>, <tf.Tensor 'unknown_42:0' shape=<unknown> dtype=resource>, <tf.Tensor 'unknown_43:0' shape=<unknown> dtype=resource>, <tf.Tensor 'unknown_44:0' shape=<unknown> dtype=resource>, <tf.Tensor 'unknown_45:0' shape=<unknown> dtype=resource>, <tf.Tensor 'unknown_46:0' shape=<unknown> dtype=resource>, <tf.Tensor 'unknown_47:0' shape=<unknown> dtype=resource>, <tf.Tensor 'unknown_48:0' shape=<unknown> dtype=resource>, <tf.Tensor 'unknown_49:0' shape=<unknown> dtype=resource>, <tf.Tensor 'unknown_50:0' shape=<unknown> dtype=resource>, <tf.Tensor 'unknown_51:0' shape=<unknown> dtype=resource>, <tf.Tensor 'unknown_52:0' shape=<unknown> dtype=resource>, <tf.Tensor 'unknown_53:0' shape=<unknown> dtype=resource>, <tf.Tensor 'unknown_54:0' shape=<unknown> dtype=resource>, <tf.Tensor 'unknown_55:0' shape=<unknown> dtype=resource>, <tf.Tensor 'unknown_56:0' shape=<unknown> dtype=resource>, <tf.Tensor 'unknown_57:0' shape=<unknown> dtype=resource>, <tf.Tensor 'unknown_58:0' shape=<unknown> dtype=resource>, <tf.Tensor 'unknown_59:0' shape=<unknown> dtype=resource>, <tf.Tensor 'unknown_60:0' shape=<unknown> dtype=resource>, <tf.Tensor 'unknown_61:0' shape=<unknown> dtype=resource>, <tf.Tensor 'unknown_62:0' shape=<unknown> dtype=resource>, <tf.Tensor 'unknown_63:0' shape=<unknown> dtype=resource>, <tf.Tensor 'unknown_64:0' shape=<unknown> dtype=resource>, <tf.Tensor 'unknown_65:0' shape=<unknown> dtype=resource>, <tf.Tensor 'unknown_66:0' shape=<unknown> dtype=resource>, <tf.Tensor 'unknown_67:0' shape=<unknown> dtype=resource>, <tf.Tensor 'unknown_68:0' shape=<unknown> dtype=resource>, <tf.Tensor 'unknown_69:0' shape=<unknown> dtype=resource>, <tf.Tensor 'unknown_70:0' shape=<unknown> dtype=resource>, <tf.Tensor 'unknown_71:0' shape=<unknown> dtype=resource>, <tf.Tensor 'unknown_72:0' shape=<unknown> dtype=resource>, <tf.Tensor 'unknown_73:0' shape=<unknown> dtype=resource>, <tf.Tensor 'unknown_74:0' shape=<unknown> dtype=resource>, <tf.Tensor 'unknown_75:0' shape=<unknown> dtype=resource>, <tf.Tensor 'unknown_76:0' shape=<unknown> dtype=resource>, <tf.Tensor 'unknown_77:0' shape=<unknown> dtype=resource>, <tf.Tensor 'unknown_78:0' shape=<unknown> dtype=resource>, <tf.Tensor 'unknown_79:0' shape=<unknown> dtype=resource>, <tf.Tensor 'unknown_80:0' shape=<unknown> dtype=resource>, <tf.Tensor 'unknown_81:0' shape=<unknown> dtype=resource>, <tf.Tensor 'unknown_82:0' shape=<unknown> dtype=resource>, <tf.Tensor 'unknown_83:0' shape=<unknown> dtype=resource>, <tf.Tensor 'unknown_84:0' shape=<unknown> dtype=resource>, <tf.Tensor 'unknown_85:0' shape=<unknown> dtype=resource>, <tf.Tensor 'unknown_86:0' shape=<unknown> dtype=resource>, <tf.Tensor 'unknown_87:0' shape=<unknown> dtype=resource>, <tf.Tensor 'unknown_88:0' shape=<unknown> dtype=resource>, <tf.Tensor 'unknown_89:0' shape=<unknown> dtype=resource>, <tf.Tensor 'unknown_90:0' shape=<unknown> dtype=resource>, <tf.Tensor 'unknown_91:0' shape=<unknown> dtype=resource>, <tf.Tensor 'unknown_92:0' shape=<unknown> dtype=resource>, <tf.Tensor 'unknown_93:0' shape=<unknown> dtype=resource>, <tf.Tensor 'unknown_94:0' shape=<unknown> dtype=resource>, <tf.Tensor 'unknown_95:0' shape=<unknown> dtype=resource>, <tf.Tensor 'unknown_96:0' shape=<unknown> dtype=resource>, <tf.Tensor 'unknown_97:0' shape=<unknown> dtype=resource>, <tf.Tensor 'unknown_98:0' shape=<unknown> dtype=resource>, <tf.Tensor 'unknown_99:0' shape=<unknown> dtype=resource>, <tf.Tensor 'unknown_100:0' shape=<unknown> dtype=resource>, <tf.Tensor 'unknown_101:0' shape=<unknown> dtype=resource>, <tf.Tensor 'unknown_102:0' shape=<unknown> dtype=resource>, <tf.Tensor 'unknown_103:0' shape=<unknown> dtype=resource>, <tf.Tensor 'unknown_104:0' shape=<unknown> dtype=resource>, <tf.Tensor 'unknown_105:0' shape=<unknown> dtype=resource>, <tf.Tensor 'unknown_106:0' shape=<unknown> dtype=resource>, <tf.Tensor 'unknown_107:0' shape=<unknown> dtype=resource>, <tf.Tensor 'unknown_108:0' shape=<unknown> dtype=resource>, <tf.Tensor 'unknown_109:0' shape=<unknown> dtype=resource>, <tf.Tensor 'unknown_110:0' shape=<unknown> dtype=resource>, <tf.Tensor 'unknown_111:0' shape=<unknown> dtype=resource>, <tf.Tensor 'unknown_112:0' shape=<unknown> dtype=resource>, <tf.Tensor 'unknown_113:0' shape=<unknown> dtype=resource>, <tf.Tensor 'unknown_114:0' shape=<unknown> dtype=resource>, <tf.Tensor 'unknown_115:0' shape=<unknown> dtype=resource>, <tf.Tensor 'unknown_116:0' shape=<unknown> dtype=resource>, <tf.Tensor 'unknown_117:0' shape=<unknown> dtype=resource>, <tf.Tensor 'unknown_118:0' shape=<unknown> dtype=resource>, <tf.Tensor 'unknown_119:0' shape=<unknown> dtype=resource>, <tf.Tensor 'unknown_120:0' shape=<unknown> dtype=resource>, <tf.Tensor 'unknown_121:0' shape=<unknown> dtype=resource>, <tf.Tensor 'unknown_122:0' shape=<unknown> dtype=resource>, <tf.Tensor 'unknown_123:0' shape=<unknown> dtype=resource>, <tf.Tensor 'unknown_124:0' shape=<unknown> dtype=resource>, <tf.Tensor 'unknown_125:0' shape=<unknown> dtype=resource>, <tf.Tensor 'unknown_126:0' shape=<unknown> dtype=resource>, <tf.Tensor 'unknown_127:0' shape=<unknown> dtype=resource>, <tf.Tensor 'unknown_128:0' shape=<unknown> dtype=resource>, <tf.Tensor 'unknown_129:0' shape=<unknown> dtype=resource>, <tf.Tensor 'unknown_130:0' shape=<unknown> dtype=resource>, <tf.Tensor 'unknown_131:0' shape=<unknown> dtype=resource>, <tf.Tensor 'unknown_132:0' shape=<unknown> dtype=resource>, <tf.Tensor 'unknown_133:0' shape=<unknown> dtype=resource>, <tf.Tensor 'unknown_134:0' shape=<unknown> dtype=resource>, <tf.Tensor 'unknown_135:0' shape=<unknown> dtype=resource>, <tf.Tensor 'unknown_136:0' shape=<unknown> dtype=resource>, <tf.Tensor 'unknown_137:0' shape=<unknown> dtype=resource>, <tf.Tensor 'unknown_138:0' shape=<unknown> dtype=resource>, <tf.Tensor 'unknown_139:0' shape=<unknown> dtype=resource>, <tf.Tensor 'unknown_140:0' shape=<unknown> dtype=resource>, <tf.Tensor 'unknown_141:0' shape=<unknown> dtype=resource>, <tf.Tensor 'unknown_142:0' shape=<unknown> dtype=resource>, <tf.Tensor 'unknown_143:0' shape=<unknown> dtype=resource>, <tf.Tensor 'unknown_144:0' shape=<unknown> dtype=resource>, <tf.Tensor 'unknown_145:0' shape=<unknown> dtype=resource>, <tf.Tensor 'unknown_146:0' shape=<unknown> dtype=resource>, <tf.Tensor 'unknown_147:0' shape=<unknown> dtype=resource>, <tf.Tensor 'unknown_148:0' shape=<unknown> dtype=resource>, <tf.Tensor 'unknown_149:0' shape=<unknown> dtype=resource>, <tf.Tensor 'unknown_150:0' shape=<unknown> dtype=resource>, <tf.Tensor 'unknown_151:0' shape=<unknown> dtype=resource>, <tf.Tensor 'unknown_152:0' shape=<unknown> dtype=resource>, <tf.Tensor 'unknown_153:0' shape=<unknown> dtype=resource>, <tf.Tensor 'unknown_154:0' shape=<unknown> dtype=resource>, <tf.Tensor 'unknown_155:0' shape=<unknown> dtype=resource>, <tf.Tensor 'unknown_156:0' shape=<unknown> dtype=resource>, <tf.Tensor 'unknown_157:0' shape=<unknown> dtype=resource>, <tf.Tensor 'unknown_158:0' shape=<unknown> dtype=resource>, <tf.Tensor 'unknown_159:0' shape=<unknown> dtype=resource>, <tf.Tensor 'unknown_160:0' shape=<unknown> dtype=resource>, <tf.Tensor 'unknown_161:0' shape=<unknown> dtype=resource>, <tf.Tensor 'unknown_162:0' shape=<unknown> dtype=resource>, <tf.Tensor 'unknown_163:0' shape=<unknown> dtype=resource>, <tf.Tensor 'unknown_164:0' shape=<unknown> dtype=resource>, <tf.Tensor 'unknown_165:0' shape=<unknown> dtype=resource>, <tf.Tensor 'unknown_166:0' shape=<unknown> dtype=resource>, <tf.Tensor 'unknown_167:0' shape=<unknown> dtype=resource>, <tf.Tensor 'unknown_168:0' shape=<unknown> dtype=resource>, <tf.Tensor 'unknown_169:0' shape=<unknown> dtype=resource>, <tf.Tensor 'unknown_170:0' shape=<unknown> dtype=resource>, <tf.Tensor 'unknown_171:0' shape=<unknown> dtype=resource>, <tf.Tensor 'unknown_172:0' shape=<unknown> dtype=resource>, <tf.Tensor 'unknown_173:0' shape=<unknown> dtype=resource>, <tf.Tensor 'unknown_174:0' shape=<unknown> dtype=resource>, <tf.Tensor 'unknown_175:0' shape=<unknown> dtype=resource>, <tf.Tensor 'unknown_176:0' shape=<unknown> dtype=resource>, <tf.Tensor 'unknown_177:0' shape=<unknown> dtype=resource>, <tf.Tensor 'unknown_178:0' shape=<unknown> dtype=resource>, <tf.Tensor 'unknown_179:0' shape=<unknown> dtype=resource>, <tf.Tensor 'unknown_180:0' shape=<unknown> dtype=resource>, <tf.Tensor 'unknown_181:0' shape=<unknown> dtype=resource>, <tf.Tensor 'unknown_182:0' shape=<unknown> dtype=resource>, <tf.Tensor 'unknown_183:0' shape=<unknown> dtype=resource>, <tf.Tensor 'unknown_184:0' shape=<unknown> dtype=resource>, <tf.Tensor 'unknown_185:0' shape=<unknown> dtype=resource>, <tf.Tensor 'unknown_186:0' shape=<unknown> dtype=resource>, <tf.Tensor 'unknown_187:0' shape=<unknown> dtype=resource>, <tf.Tensor 'unknown_188:0' shape=<unknown> dtype=resource>, <tf.Tensor 'unknown_189:0' shape=<unknown> dtype=resource>, <tf.Tensor 'unknown_190:0' shape=<unknown> dtype=resource>, <tf.Tensor 'unknown_191:0' shape=<unknown> dtype=resource>, <tf.Tensor 'unknown_192:0' shape=<unknown> dtype=resource>, <tf.Tensor 'unknown_193:0' shape=<unknown> dtype=resource>, <tf.Tensor 'unknown_194:0' shape=<unknown> dtype=resource>, <tf.Tensor 'unknown_195:0' shape=<unknown> dtype=resource>, <tf.Tensor 'unknown_196:0' shape=<unknown> dtype=resource>, <tf.Tensor 'unknown_197:0' shape=<unknown> dtype=resource>, <tf.Tensor 'unknown_198:0' shape=<unknown> dtype=resource>, <tf.Tensor 'unknown_199:0' shape=<unknown> dtype=resource>, <tf.Tensor 'unknown_200:0' shape=<unknown> dtype=resource>, <tf.Tensor 'unknown_201:0' shape=<unknown> dtype=resource>, <tf.Tensor 'unknown_202:0' shape=<unknown> dtype=resource>, <tf.Tensor 'unknown_203:0' shape=<unknown> dtype=resource>, <tf.Tensor 'unknown_204:0' shape=<unknown> dtype=resource>, <tf.Tensor 'unknown_205:0' shape=<unknown> dtype=resource>, <tf.Tensor 'unknown_206:0' shape=<unknown> dtype=resource>, <tf.Tensor 'unknown_207:0' shape=<unknown> dtype=resource>, <tf.Tensor 'unknown_208:0' shape=<unknown> dtype=resource>, <tf.Tensor 'unknown_209:0' shape=<unknown> dtype=resource>, <tf.Tensor 'unknown_210:0' shape=<unknown> dtype=resource>, <tf.Tensor 'unknown_211:0' shape=<unknown> dtype=resource>, <tf.Tensor 'unknown_212:0' shape=<unknown> dtype=resource>, <tf.Tensor 'unknown_213:0' shape=<unknown> dtype=resource>, <tf.Tensor 'unknown_214:0' shape=<unknown> dtype=resource>, <tf.Tensor 'unknown_215:0' shape=<unknown> dtype=resource>, <tf.Tensor 'unknown_216:0' shape=<unknown> dtype=resource>, <tf.Tensor 'unknown_217:0' shape=<unknown> dtype=resource>, <tf.Tensor 'unknown_218:0' shape=<unknown> dtype=resource>, <tf.Tensor 'unknown_219:0' shape=<unknown> dtype=resource>, <tf.Tensor 'unknown_220:0' shape=<unknown> dtype=resource>, <tf.Tensor 'unknown_221:0' shape=<unknown> dtype=resource>, <tf.Tensor 'unknown_222:0' shape=<unknown> dtype=resource>, <tf.Tensor 'unknown_223:0' shape=<unknown> dtype=resource>, <tf.Tensor 'unknown_224:0' shape=<unknown> dtype=resource>, <tf.Tensor 'unknown_225:0' shape=<unknown> dtype=resource>, <tf.Tensor 'unknown_226:0' shape=<unknown> dtype=resource>, <tf.Tensor 'unknown_227:0' shape=<unknown> dtype=resource>, <tf.Tensor 'unknown_228:0' shape=<unknown> dtype=resource>, <tf.Tensor 'unknown_229:0' shape=<unknown> dtype=resource>, <tf.Tensor 'unknown_230:0' shape=<unknown> dtype=resource>, <tf.Tensor 'unknown_231:0' shape=<unknown> dtype=resource>, <tf.Tensor 'unknown_232:0' shape=<unknown> dtype=resource>, <tf.Tensor 'unknown_233:0' shape=<unknown> dtype=resource>, <tf.Tensor 'unknown_234:0' shape=<unknown> dtype=resource>, <tf.Tensor 'unknown_235:0' shape=<unknown> dtype=resource>, <tf.Tensor 'unknown_236:0' shape=<unknown> dtype=resource>, <tf.Tensor 'unknown_237:0' shape=<unknown> dtype=resource>, <tf.Tensor 'unknown_238:0' shape=<unknown> dtype=resource>, <tf.Tensor 'unknown_239:0' shape=<unknown> dtype=resource>, <tf.Tensor 'unknown_240:0' shape=<unknown> dtype=resource>, <tf.Tensor 'unknown_241:0' shape=<unknown> dtype=resource>, <tf.Tensor 'unknown_242:0' shape=<unknown> dtype=resource>, <tf.Tensor 'unknown_243:0' shape=<unknown> dtype=resource>, <tf.Tensor 'unknown_244:0' shape=<unknown> dtype=resource>, <tf.Tensor 'unknown_245:0' shape=<unknown> dtype=resource>, <tf.Tensor 'unknown_246:0' shape=<unknown> dtype=resource>, <tf.Tensor 'unknown_247:0' shape=<unknown> dtype=resource>, <tf.Tensor 'unknown_248:0' shape=<unknown> dtype=resource>, <tf.Tensor 'unknown_249:0' shape=<unknown> dtype=resource>, <tf.Tensor 'unknown_250:0' shape=<unknown> dtype=resource>, <tf.Tensor 'unknown_251:0' shape=<unknown> dtype=resource>, <tf.Tensor 'unknown_252:0' shape=<unknown> dtype=resource>, <tf.Tensor 'unknown_253:0' shape=<unknown> dtype=resource>, <tf.Tensor 'unknown_254:0' shape=<unknown> dtype=resource>, <tf.Tensor 'unknown_255:0' shape=<unknown> dtype=resource>, <tf.Tensor 'unknown_256:0' shape=<unknown> dtype=resource>, <tf.Tensor 'unknown_257:0' shape=<unknown> dtype=resource>, <tf.Tensor 'unknown_258:0' shape=<unknown> dtype=resource>, <tf.Tensor 'unknown_259:0' shape=<unknown> dtype=resource>, <tf.Tensor 'unknown_260:0' shape=<unknown> dtype=resource>, <tf.Tensor 'unknown_261:0' shape=<unknown> dtype=resource>, <tf.Tensor 'unknown_262:0' shape=<unknown> dtype=resource>, <tf.Tensor 'unknown_263:0' shape=<unknown> dtype=resource>, <tf.Tensor 'unknown_264:0' shape=<unknown> dtype=resource>, <tf.Tensor 'unknown_265:0' shape=<unknown> dtype=resource>, <tf.Tensor 'unknown_266:0' shape=<unknown> dtype=resource>, <tf.Tensor 'unknown_267:0' shape=<unknown> dtype=resource>, <tf.Tensor 'unknown_268:0' shape=<unknown> dtype=resource>, <tf.Tensor 'unknown_269:0' shape=<unknown> dtype=resource>, <tf.Tensor 'unknown_270:0' shape=<unknown> dtype=resource>, <tf.Tensor 'unknown_271:0' shape=<unknown> dtype=resource>, <tf.Tensor 'unknown_272:0' shape=<unknown> dtype=resource>, <tf.Tensor 'unknown_273:0' shape=<unknown> dtype=resource>, <tf.Tensor 'unknown_274:0' shape=<unknown> dtype=resource>, <tf.Tensor 'unknown_275:0' shape=<unknown> dtype=resource>, <tf.Tensor 'unknown_276:0' shape=<unknown> dtype=resource>, <tf.Tensor 'unknown_277:0' shape=<unknown> dtype=resource>, <tf.Tensor 'unknown_278:0' shape=<unknown> dtype=resource>, <tf.Tensor 'unknown_279:0' shape=<unknown> dtype=resource>, <tf.Tensor 'unknown_280:0' shape=<unknown> dtype=resource>, <tf.Tensor 'unknown_281:0' shape=<unknown> dtype=resource>, <tf.Tensor 'unknown_282:0' shape=<unknown> dtype=resource>, <tf.Tensor 'unknown_283:0' shape=<unknown> dtype=resource>, <tf.Tensor 'unknown_284:0' shape=<unknown> dtype=resource>, <tf.Tensor 'unknown_285:0' shape=<unknown> dtype=resource>, <tf.Tensor 'unknown_286:0' shape=<unknown> dtype=resource>, <tf.Tensor 'unknown_287:0' shape=<unknown> dtype=resource>, <tf.Tensor 'unknown_288:0' shape=<unknown> dtype=resource>, <tf.Tensor 'unknown_289:0' shape=(2,) dtype=float32>, <tf.Tensor 'unknown_290:0' shape=(2,) dtype=float32>, <tf.Tensor 'unknown_291:0' shape=(2,) dtype=float32>, <tf.Tensor 'unknown_292:0' shape=(2,) dtype=float32>, <tf.Tensor 'unknown_293:0' shape=(2,) dtype=float32>, <tf.Tensor 'unknown_294:0' shape=(2,) dtype=float32>, <tf.Tensor 'unknown_295:0' shape=(2,) dtype=float32>, <tf.Tensor 'unknown_296:0' shape=(2,) dtype=float32>, <tf.Tensor 'unknown_297:0' shape=(2,) dtype=float32>, <tf.Tensor 'unknown_298:0' shape=(2,) dtype=float32>, <tf.Tensor 'unknown_299:0' shape=(2,) dtype=float32>, <tf.Tensor 'unknown_300:0' shape=(2,) dtype=float32>, <tf.Tensor 'unknown_301:0' shape=(2,) dtype=float32>, <tf.Tensor 'unknown_302:0' shape=(2,) dtype=float32>, <tf.Tensor 'unknown_303:0' shape=(2,) dtype=float32>, <tf.Tensor 'unknown_304:0' shape=<unknown> dtype=resource>, <tf.Tensor 'unknown_305:0' shape=<unknown> dtype=resource>, <tf.Tensor 'unknown_306:0' shape=<unknown> dtype=resource>, <tf.Tensor 'unknown_307:0' shape=<unknown> dtype=resource>, <tf.Tensor 'unknown_308:0' shape=<unknown> dtype=resource>, <tf.Tensor 'unknown_309:0' shape=<unknown> dtype=resource>, <tf.Tensor 'unknown_310:0' shape=<unknown> dtype=resource>, <tf.Tensor 'unknown_311:0' shape=<unknown> dtype=resource>, <tf.Tensor 'unknown_312:0' shape=<unknown> dtype=resource>, <tf.Tensor 'unknown_313:0' shape=<unknown> dtype=resource>, <tf.Tensor 'unknown_314:0' shape=<unknown> dtype=resource>, <tf.Tensor 'unknown_315:0' shape=<unknown> dtype=resource>, <tf.Tensor 'unknown_316:0' shape=<unknown> dtype=resource>, <tf.Tensor 'unknown_317:0' shape=<unknown> dtype=resource>, <tf.Tensor 'unknown_318:0' shape=<unknown> dtype=resource>, <tf.Tensor 'unknown_319:0' shape=<unknown> dtype=resource>, <tf.Tensor 'unknown_320:0' shape=<unknown> dtype=resource>, <tf.Tensor 'unknown_321:0' shape=<unknown> dtype=resource>, <tf.Tensor 'unknown_322:0' shape=<unknown> dtype=resource>, <tf.Tensor 'unknown_323:0' shape=<unknown> dtype=resource>, <tf.Tensor 'unknown_324:0' shape=<unknown> dtype=resource>, <tf.Tensor 'unknown_325:0' shape=<unknown> dtype=resource>, <tf.Tensor 'unknown_326:0' shape=<unknown> dtype=resource>, <tf.Tensor 'unknown_327:0' shape=<unknown> dtype=resource>, <tf.Tensor 'unknown_328:0' shape=<unknown> dtype=resource>, <tf.Tensor 'unknown_329:0' shape=<unknown> dtype=resource>, <tf.Tensor 'unknown_330:0' shape=<unknown> dtype=resource>, <tf.Tensor 'unknown_331:0' shape=<unknown> dtype=resource>, <tf.Tensor 'unknown_332:0' shape=<unknown> dtype=resource>, <tf.Tensor 'unknown_333:0' shape=<unknown> dtype=resource>, <tf.Tensor 'unknown_334:0' shape=<unknown> dtype=resource>, <tf.Tensor 'unknown_335:0' shape=<unknown> dtype=resource>, <tf.Tensor 'unknown_336:0' shape=<unknown> dtype=resource>, <tf.Tensor 'unknown_337:0' shape=<unknown> dtype=resource>, <tf.Tensor 'unknown_338:0' shape=<unknown> dtype=resource>, <tf.Tensor 'unknown_339:0' shape=<unknown> dtype=resource>, <tf.Tensor 'unknown_340:0' shape=<unknown> dtype=resource>, <tf.Tensor 'unknown_341:0' shape=<unknown> dtype=resource>, <tf.Tensor 'unknown_342:0' shape=<unknown> dtype=resource>, <tf.Tensor 'unknown_343:0' shape=<unknown> dtype=resource>, <tf.Tensor 'unknown_344:0' shape=<unknown> dtype=resource>, <tf.Tensor 'unknown_345:0' shape=<unknown> dtype=resource>, <tf.Tensor 'unknown_346:0' shape=<unknown> dtype=resource>, <tf.Tensor 'unknown_347:0' shape=<unknown> dtype=resource>, <tf.Tensor 'unknown_348:0' shape=<unknown> dtype=resource>, <tf.Tensor 'unknown_349:0' shape=<unknown> dtype=resource>, <tf.Tensor 'unknown_350:0' shape=<unknown> dtype=resource>, <tf.Tensor 'unknown_351:0' shape=<unknown> dtype=resource>, <tf.Tensor 'unknown_352:0' shape=<unknown> dtype=resource>, <tf.Tensor 'unknown_353:0' shape=<unknown> dtype=resource>, <tf.Tensor 'unknown_354:0' shape=<unknown> dtype=resource>, <tf.Tensor 'unknown_355:0' shape=<unknown> dtype=resource>, <tf.Tensor 'unknown_356:0' shape=<unknown> dtype=resource>, <tf.Tensor 'unknown_357:0' shape=<unknown> dtype=resource>, <tf.Tensor 'unknown_358:0' shape=<unknown> dtype=resource>, <tf.Tensor 'unknown_359:0' shape=<unknown> dtype=resource>, <tf.Tensor 'unknown_360:0' shape=<unknown> dtype=resource>, <tf.Tensor 'unknown_361:0' shape=<unknown> dtype=resource>, <tf.Tensor 'unknown_362:0' shape=<unknown> dtype=resource>, <tf.Tensor 'unknown_363:0' shape=<unknown> dtype=resource>, <tf.Tensor 'unknown_364:0' shape=<unknown> dtype=resource>, <tf.Tensor 'unknown_365:0' shape=<unknown> dtype=resource>, <tf.Tensor 'unknown_366:0' shape=<unknown> dtype=resource>, <tf.Tensor 'unknown_367:0' shape=<unknown> dtype=resource>, <tf.Tensor 'unknown_368:0' shape=<unknown> dtype=resource>, <tf.Tensor 'unknown_369:0' shape=<unknown> dtype=resource>, <tf.Tensor 'unknown_370:0' shape=<unknown> dtype=resource>, <tf.Tensor 'unknown_371:0' shape=<unknown> dtype=resource>, <tf.Tensor 'unknown_372:0' shape=<unknown> dtype=resource>, <tf.Tensor 'unknown_373:0' shape=<unknown> dtype=resource>, <tf.Tensor 'unknown_374:0' shape=<unknown> dtype=resource>, <tf.Tensor 'unknown_375:0' shape=<unknown> dtype=resource>, <tf.Tensor 'unknown_376:0' shape=<unknown> dtype=resource>, <tf.Tensor 'unknown_377:0' shape=<unknown> dtype=resource>, <tf.Tensor 'unknown_378:0' shape=<unknown> dtype=resource>, <tf.Tensor 'unknown_379:0' shape=<unknown> dtype=resource>, <tf.Tensor 'unknown_380:0' shape=<unknown> dtype=resource>, <tf.Tensor 'unknown_381:0' shape=<unknown> dtype=resource>, <tf.Tensor 'unknown_382:0' shape=<unknown> dtype=resource>, <tf.Tensor 'unknown_383:0' shape=<unknown> dtype=resource>, <tf.Tensor 'unknown_384:0' shape=<unknown> dtype=resource>, <tf.Tensor 'unknown_385:0' shape=<unknown> dtype=resource>, <tf.Tensor 'unknown_386:0' shape=<unknown> dtype=resource>, <tf.Tensor 'unknown_387:0' shape=<unknown> dtype=resource>, <tf.Tensor 'unknown_388:0' shape=<unknown> dtype=resource>, <tf.Tensor 'unknown_389:0' shape=<unknown> dtype=resource>, <tf.Tensor 'unknown_390:0' shape=<unknown> dtype=resource>, <tf.Tensor 'unknown_391:0' shape=<unknown> dtype=resource>, <tf.Tensor 'unknown_392:0' shape=<unknown> dtype=resource>, <tf.Tensor 'unknown_393:0' shape=<unknown> dtype=resource>, <tf.Tensor 'unknown_394:0' shape=<unknown> dtype=resource>, <tf.Tensor 'unknown_395:0' shape=<unknown> dtype=resource>, <tf.Tensor 'unknown_396:0' shape=<unknown> dtype=resource>, <tf.Tensor 'unknown_397:0' shape=<unknown> dtype=resource>]\n"
          ]
        }
      ],
      "source": [
        "print(detection_model.signatures['serving_default'].inputs)"
      ]
    },
    {
      "cell_type": "markdown",
      "metadata": {
        "id": "Q8u3BjpMJXZF"
      },
      "source": [
        "And returns several outputs:"
      ]
    },
    {
      "cell_type": "code",
      "execution_count": 90,
      "metadata": {
        "id": "oLSZpfaYwuSk"
      },
      "outputs": [
        {
          "data": {
            "text/plain": [
              "{'num_detections': tf.float32,\n",
              " 'detection_multiclass_scores': tf.float32,\n",
              " 'detection_anchor_indices': tf.float32,\n",
              " 'detection_scores': tf.float32,\n",
              " 'raw_detection_boxes': tf.float32,\n",
              " 'detection_classes': tf.float32,\n",
              " 'raw_detection_scores': tf.float32,\n",
              " 'detection_boxes': tf.float32}"
            ]
          },
          "execution_count": 90,
          "metadata": {},
          "output_type": "execute_result"
        }
      ],
      "source": [
        "detection_model.signatures['serving_default'].output_dtypes"
      ]
    },
    {
      "cell_type": "code",
      "execution_count": 91,
      "metadata": {
        "id": "FZyKUJeuxvpT"
      },
      "outputs": [
        {
          "data": {
            "text/plain": [
              "{'num_detections': TensorShape([1]),\n",
              " 'detection_multiclass_scores': TensorShape([1, 100, 91]),\n",
              " 'detection_anchor_indices': TensorShape([1, 100]),\n",
              " 'detection_scores': TensorShape([1, 100]),\n",
              " 'raw_detection_boxes': TensorShape([1, 12804, 4]),\n",
              " 'detection_classes': TensorShape([1, 100]),\n",
              " 'raw_detection_scores': TensorShape([1, 12804, 91]),\n",
              " 'detection_boxes': TensorShape([1, 100, 4])}"
            ]
          },
          "execution_count": 91,
          "metadata": {},
          "output_type": "execute_result"
        }
      ],
      "source": [
        "detection_model.signatures['serving_default'].output_shapes"
      ]
    },
    {
      "cell_type": "markdown",
      "metadata": {
        "id": "JP5qZ7sXJpwG"
      },
      "source": [
        "Add a wrapper function to call the model, and cleanup the outputs:"
      ]
    },
    {
      "cell_type": "code",
      "execution_count": 98,
      "metadata": {
        "id": "ajmR_exWyN76"
      },
      "outputs": [],
      "source": [
        "def run_inference_for_single_image(model, image):\n",
        "  image = np.asarray(image)\n",
        "  # The input needs to be a tensor, convert it using `tf.convert_to_tensor`.\n",
        "  input_tensor = tf.convert_to_tensor(image)\n",
        "  # The model expects a batch of images, so add an axis with `tf.newaxis`.\n",
        "  input_tensor = input_tensor[tf.newaxis,...]\n",
        "\n",
        "  # Run inference\n",
        "  model_fn = model.signatures['serving_default']\n",
        "  output_dict = model_fn(input_tensor)\n",
        "\n",
        "  # All outputs are batches tensors.\n",
        "  # Convert to numpy arrays, and take index [0] to remove the batch dimension.\n",
        "  # We're only interested in the first num_detections.\n",
        "  num_detections = int(output_dict.pop('num_detections'))\n",
        "  output_dict = {key:value[0, :num_detections].numpy() \n",
        "                 for key,value in output_dict.items()}\n",
        "  output_dict['num_detections'] = num_detections\n",
        "\n",
        "  # detection_classes should be ints.\n",
        "  output_dict['detection_classes'] = output_dict['detection_classes'].astype(np.int64)\n",
        "   \n",
        "  # Handle models with masks:\n",
        "  if 'detection_masks' in output_dict:\n",
        "    # Reframe the the bbox mask to the image size.\n",
        "    detection_masks_reframed = utils_ops.reframe_box_masks_to_image_masks(\n",
        "              output_dict['detection_masks'], output_dict['detection_boxes'],\n",
        "               image.shape[0], image.shape[1])      \n",
        "    detection_masks_reframed = tf.cast(detection_masks_reframed > 0.5,\n",
        "                                       tf.uint8)\n",
        "    output_dict['detection_masks_reframed'] = detection_masks_reframed.numpy()\n",
        "    \n",
        "  return output_dict"
      ]
    },
    {
      "cell_type": "markdown",
      "metadata": {
        "id": "z1wq0LVyMRR_"
      },
      "source": [
        "Run it on test images and show and save the results:"
      ]
    },
    {
      "cell_type": "code",
      "execution_count": 99,
      "metadata": {
        "id": "DWh_1zz6aqxs"
      },
      "outputs": [],
      "source": [
        "def show_inference(model, image_path, output_folder):\n",
        "    # The array based representation of the image will be used later to prepare the\n",
        "    # result image with boxes and labels on it.\n",
        "    image_np = np.array(Image.open(image_path))\n",
        "    # Actual detection.\n",
        "    output_dict = run_inference_for_single_image(model, image_np)\n",
        "    # Visualization of the results of a detection.\n",
        "    vis_util.visualize_boxes_and_labels_on_image_array(\n",
        "        image_np,\n",
        "        output_dict['detection_boxes'],\n",
        "        output_dict['detection_classes'],\n",
        "        output_dict['detection_scores'],\n",
        "        category_index,\n",
        "        instance_masks=output_dict.get('detection_masks_reframed', None),\n",
        "        use_normalized_coordinates=True,\n",
        "        line_thickness=8)\n",
        "\n",
        "    # Save the image\n",
        "    output_image_path = os.path.join(output_folder, os.path.basename(image_path))\n",
        "    Image.fromarray(image_np).save(output_image_path)\n",
        "\n",
        "    # Display the image\n",
        "    # display(Image.fromarray(image_np))\n"
      ]
    },
    {
      "cell_type": "markdown",
      "metadata": {},
      "source": [
        "Run it on test videos and show and save the results:"
      ]
    },
    {
      "cell_type": "code",
      "execution_count": 102,
      "metadata": {},
      "outputs": [],
      "source": [
        "def show_inference_video(model, video_path, output_folder):\n",
        "    # Open the video file\n",
        "    cap = cv2.VideoCapture(video_path)\n",
        "    frame_width = int(cap.get(cv2.CAP_PROP_FRAME_WIDTH))\n",
        "    frame_height = int(cap.get(cv2.CAP_PROP_FRAME_HEIGHT))\n",
        "    fps = cap.get(cv2.CAP_PROP_FPS)\n",
        "\n",
        "    # Define the codec and create VideoWriter object\n",
        "    output_video_path = os.path.join(output_folder, os.path.basename(video_path))\n",
        "    out = cv2.VideoWriter(output_video_path, cv2.VideoWriter_fourcc(*'mp4v'), fps, (frame_width, frame_height))\n",
        "\n",
        "    while cap.isOpened():\n",
        "        ret, frame = cap.read()\n",
        "        if not ret:\n",
        "            break\n",
        "\n",
        "        # Convert the frame to RGB\n",
        "        frame_rgb = cv2.cvtColor(frame, cv2.COLOR_BGR2RGB)\n",
        "\n",
        "        # Actual detection.\n",
        "        output_dict = run_inference_for_single_image(model, frame_rgb)\n",
        "\n",
        "        # Visualization of the results of a detection.\n",
        "        vis_util.visualize_boxes_and_labels_on_image_array(\n",
        "            frame_rgb,\n",
        "            output_dict['detection_boxes'],\n",
        "            output_dict['detection_classes'],\n",
        "            output_dict['detection_scores'],\n",
        "            category_index,\n",
        "            instance_masks=output_dict.get('detection_masks_reframed', None),\n",
        "            use_normalized_coordinates=True,\n",
        "            line_thickness=8)\n",
        "\n",
        "        # Convert back to BGR\n",
        "        frame_bgr = cv2.cvtColor(frame_rgb, cv2.COLOR_RGB2BGR)\n",
        "\n",
        "        # Write the frame into the output video\n",
        "        out.write(frame_bgr)\n",
        "\n",
        "    # Release everything if job is finished\n",
        "    cap.release()\n",
        "    out.release()\n",
        "    cv2.destroyAllWindows()\n"
      ]
    },
    {
      "cell_type": "markdown",
      "metadata": {},
      "source": [
        "Run it on real-time detection:"
      ]
    },
    {
      "cell_type": "code",
      "execution_count": 105,
      "metadata": {},
      "outputs": [],
      "source": [
        "def show_inference_realtime(model):\n",
        "    # Open webcam\n",
        "    cap = cv2.VideoCapture(0)\n",
        "\n",
        "    while True:\n",
        "        ret, frame = cap.read()\n",
        "        if not ret:\n",
        "            break\n",
        "\n",
        "        # Convert the frame to RGB\n",
        "        frame_rgb = cv2.cvtColor(frame, cv2.COLOR_BGR2RGB)\n",
        "\n",
        "        # Actual detection\n",
        "        output_dict = run_inference_for_single_image(model, frame_rgb)\n",
        "\n",
        "        # Visualization of the results of a detection\n",
        "        vis_util.visualize_boxes_and_labels_on_image_array(\n",
        "            frame_rgb,\n",
        "            output_dict['detection_boxes'],\n",
        "            output_dict['detection_classes'],\n",
        "            output_dict['detection_scores'],\n",
        "            category_index,\n",
        "            instance_masks=output_dict.get('detection_masks_reframed', None),\n",
        "            use_normalized_coordinates=True,\n",
        "            line_thickness=8)\n",
        "\n",
        "        # Display the image\n",
        "        cv2.imshow('Object Detection', cv2.cvtColor(frame_rgb, cv2.COLOR_RGB2BGR))\n",
        "        \n",
        "        # Break the loop on pressing 'q'\n",
        "        if cv2.waitKey(1) & 0xFF == ord('q'):\n",
        "            break\n",
        "\n",
        "    # Release the webcam and close OpenCV windows\n",
        "    cap.release()\n",
        "    cv2.destroyAllWindows()"
      ]
    },
    {
      "cell_type": "markdown",
      "metadata": {},
      "source": [
        "For Images"
      ]
    },
    {
      "cell_type": "code",
      "execution_count": 100,
      "metadata": {
        "id": "3a5wMHN8WKMh"
      },
      "outputs": [],
      "source": [
        "for image_path in TEST_IMAGE_PATHS:\n",
        "    show_inference(detection_model, image_path, \"outputs\")"
      ]
    },
    {
      "cell_type": "markdown",
      "metadata": {},
      "source": [
        "For Videos"
      ]
    },
    {
      "cell_type": "code",
      "execution_count": 104,
      "metadata": {},
      "outputs": [],
      "source": [
        "show_inference_video(detection_model, 'test_videos/video.mp4', 'outputs')"
      ]
    },
    {
      "cell_type": "markdown",
      "metadata": {},
      "source": [
        "Web Cam"
      ]
    },
    {
      "cell_type": "code",
      "execution_count": 106,
      "metadata": {},
      "outputs": [],
      "source": [
        "show_inference_realtime(detection_model)"
      ]
    },
    {
      "cell_type": "markdown",
      "metadata": {
        "id": "DsspMPX3Cssg"
      },
      "source": [
        "## Instance Segmentation"
      ]
    },
    {
      "cell_type": "code",
      "execution_count": null,
      "metadata": {
        "id": "CzkVv_n2MxKC"
      },
      "outputs": [],
      "source": [
        "model_name = \"mask_rcnn_inception_resnet_v2_atrous_coco_2018_01_28\"\n",
        "masking_model = load_model(model_name)"
      ]
    },
    {
      "cell_type": "markdown",
      "metadata": {
        "id": "0S7aZi8ZOhVV"
      },
      "source": [
        "The instance segmentation model includes a `detection_masks` output:"
      ]
    },
    {
      "cell_type": "code",
      "execution_count": null,
      "metadata": {
        "id": "vQ2Sj2VIOZLA"
      },
      "outputs": [],
      "source": [
        "masking_model.signatures['serving_default'].output_shapes"
      ]
    },
    {
      "cell_type": "code",
      "execution_count": null,
      "metadata": {
        "id": "AS57rZlnNL7W"
      },
      "outputs": [],
      "source": [
        "for image_path in TEST_IMAGE_PATHS:\n",
        "  show_inference(masking_model, image_path)"
      ]
    }
  ],
  "metadata": {
    "accelerator": "GPU",
    "colab": {
      "collapsed_sections": [],
      "last_runtime": {
        "build_target": "//learning/brain/python/client:colab_notebook",
        "kind": "private"
      },
      "name": "object_detection_tutorial.ipynb",
      "private_outputs": true,
      "provenance": [
        {
          "file_id": "/piper/depot/google3/third_party/tensorflow_models/object_detection/colab_tutorials/object_detection_tutorial.ipynb",
          "timestamp": 1594335690840
        },
        {
          "file_id": "1LNYL6Zsn9Xlil2CVNOTsgDZQSBKeOjCh",
          "timestamp": 1566498233247
        },
        {
          "file_id": "/piper/depot/google3/third_party/tensorflow_models/object_detection/object_detection_tutorial.ipynb?workspaceId=markdaoust:copybara_AFABFE845DCD573AD3D43A6BAFBE77D4_0::citc",
          "timestamp": 1566488313397
        },
        {
          "file_id": "/piper/depot/google3/third_party/py/tensorflow_docs/g3doc/en/r2/tutorials/generative/object_detection_tutorial.ipynb?workspaceId=markdaoust:copybara_AFABFE845DCD573AD3D43A6BAFBE77D4_0::citc",
          "timestamp": 1566145894046
        },
        {
          "file_id": "1nBPoWynOV0auSIy40eQcBIk9C6YRSkI8",
          "timestamp": 1566145841085
        },
        {
          "file_id": "/piper/depot/google3/third_party/tensorflow_models/object_detection/object_detection_tutorial.ipynb?workspaceId=markdaoust:copybara_AFABFE845DCD573AD3D43A6BAFBE77D4_0::citc",
          "timestamp": 1556295408037
        },
        {
          "file_id": "1layerger-51XwWOwYMY_5zHaCavCeQkO",
          "timestamp": 1556214267924
        },
        {
          "file_id": "/piper/depot/google3/third_party/tensorflow_models/object_detection/object_detection_tutorial.ipynb?workspaceId=markdaoust:copybara_AFABFE845DCD573AD3D43A6BAFBE77D4_0::citc",
          "timestamp": 1556207836484
        },
        {
          "file_id": "1w6mqQiNV3liPIX70NOgitOlDF1_4sRMw",
          "timestamp": 1556154824101
        },
        {
          "file_id": "https://github.com/tensorflow/models/blob/master/research/object_detection/object_detection_tutorial.ipynb",
          "timestamp": 1556150293326
        }
      ]
    },
    "kernelspec": {
      "display_name": "Python 3",
      "name": "python3"
    },
    "language_info": {
      "codemirror_mode": {
        "name": "ipython",
        "version": 3
      },
      "file_extension": ".py",
      "mimetype": "text/x-python",
      "name": "python",
      "nbconvert_exporter": "python",
      "pygments_lexer": "ipython3",
      "version": "3.9.19"
    }
  },
  "nbformat": 4,
  "nbformat_minor": 0
}
